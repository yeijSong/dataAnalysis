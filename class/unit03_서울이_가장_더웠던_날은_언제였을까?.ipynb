{
  "nbformat": 4,
  "nbformat_minor": 0,
  "metadata": {
    "colab": {
      "name": "unit03-서울이 가장 더웠던 날은 언제였을까?.ipynb",
      "provenance": [],
      "collapsed_sections": [],
      "authorship_tag": "ABX9TyOGXOOHCeAWeTXWVfDlydYS",
      "include_colab_link": true
    },
    "kernelspec": {
      "name": "python3",
      "display_name": "Python 3"
    },
    "language_info": {
      "name": "python"
    }
  },
  "cells": [
    {
      "cell_type": "markdown",
      "metadata": {
        "id": "view-in-github",
        "colab_type": "text"
      },
      "source": [
        "<a href=\"https://colab.research.google.com/github/yeijSong/dataAnalysis/blob/main/unit03_%EC%84%9C%EC%9A%B8%EC%9D%B4_%EA%B0%80%EC%9E%A5_%EB%8D%94%EC%9B%A0%EB%8D%98_%EB%82%A0%EC%9D%80_%EC%96%B8%EC%A0%9C%EC%98%80%EC%9D%84%EA%B9%8C%3F.ipynb\" target=\"_parent\"><img src=\"https://colab.research.google.com/assets/colab-badge.svg\" alt=\"Open In Colab\"/></a>"
      ]
    },
    {
      "cell_type": "markdown",
      "metadata": {
        "id": "c0nJQvtAh4OM"
      },
      "source": [
        "step 1) 데이터 불러 한 행씩 출력하기"
      ]
    },
    {
      "cell_type": "code",
      "metadata": {
        "id": "QAQv8S36htoh"
      },
      "source": [
        "import csv\n",
        "\n",
        "f=open('seoul.csv','r',encoding='cp949')\n",
        "\n",
        "data=csv.reader(f)\n",
        "header=next(data) # header(컬럼 인덱스) 추출\n",
        "\n",
        "for row in data:\n",
        "  print(row)\n",
        "  # 최고기온 데이터만 추출 -> 결측치로 인한 오류 발생 -> 어떻게 처리할까?\n",
        "  row[-1]=float(row[-1]) # 최고기온의 원래 인덱스는 4이지만 최고기온은 마지막 순서의 컬럼이므로 -1로 코딩\n",
        "\n",
        "f.close()"
      ],
      "execution_count": null,
      "outputs": []
    },
    {
      "cell_type": "markdown",
      "metadata": {
        "id": "7CeCXvUBkpCC"
      },
      "source": [
        "step 2) 데이터 중 최고 기온을 실수로 변환하여 한 행씩 출력하기"
      ]
    },
    {
      "cell_type": "code",
      "metadata": {
        "id": "yULnylnYjkVX"
      },
      "source": [
        "import csv\n",
        "\n",
        "max_temp = -999 # 최고 기온 값을 저장할 변수 -> 누가 봐도 최고 기온이 아닌 값을 지정(명확한 결과를 위해 극적인 값으로 세팅)\n",
        "max_date = '' # 최고 기온이 가장 높았던 날짜를 저장하는 변수\n",
        "\n",
        "f=open('seoul.csv','r',encoding='cp949')\n",
        "\n",
        "data=csv.reader(f)\n",
        "header=next(data) # header(컬럼 인덱스) 추출\n",
        "\n",
        "for row in data:\n",
        "  \n",
        "\n",
        "  # 최고 기온 데이터가 ''(결측치)인지 확인\n",
        "  if row[-1] == '':\n",
        "    row[-1] = -999 # -999를 넣어서 빈 문자열 ''이 있던 자리임을 표기\n",
        "  \n",
        "  row[-1]=float(row[-1])\n",
        "  print(row[0], row[-1]) # 날짜 데이터와 최고 기온 데이터를 함께 출력\n",
        "\n",
        "f.close()\n",
        "  "
      ],
      "execution_count": null,
      "outputs": []
    },
    {
      "cell_type": "markdown",
      "metadata": {
        "id": "-DJ_j91WroLT"
      },
      "source": [
        "step 3) 최고 기온과 최고 기온이었던 날짜"
      ]
    },
    {
      "cell_type": "code",
      "metadata": {
        "colab": {
          "base_uri": "https://localhost:8080/"
        },
        "id": "4VBa0Bvgm1dS",
        "outputId": "33bef6ba-10ff-42d0-b8d1-02f99aeae96a"
      },
      "source": [
        "import csv\n",
        "\n",
        "max_temp = -999 # 최고 기온 값을 저장할 변수 -> 누가 봐도 최고 기온이 아닌 값을 지정(명확한 결과를 위해 극적인 값으로 세팅)\n",
        "max_date = '' # 최고 기온이 가장 높았던 날짜를 저장하는 변수\n",
        "\n",
        "f=open('seoul.csv','r',encoding='cp949')\n",
        "\n",
        "data=csv.reader(f)\n",
        "header=next(data) # header(컬럼 인덱스) 추출\n",
        "\n",
        "for row in data:\n",
        "  \n",
        "\n",
        "  # 최고 기온 데이터가 ''(결측치)인지 확인\n",
        "  if row[-1] == '':\n",
        "    row[-1] = -999 # -999를 넣어서 빈 문자열 ''이 있던 자리임을 표기\n",
        "  \n",
        "  row[-1]=float(row[-1])\n",
        "  \n",
        "  # 최고 기온 정보를 저장\n",
        "\n",
        "  if max_temp < row[-1]:\n",
        "    max_date = row[0]\n",
        "    max_temp = row[-1]\n",
        "\n",
        "f.close()\n",
        "\n",
        "print('기상 관측 이래 서울의 최고 기온이 가장 높았던 날은 %s로 %.1f도 였습니다'%(max_date,max_temp))"
      ],
      "execution_count": null,
      "outputs": [
        {
          "output_type": "stream",
          "text": [
            "기상 관측 이래 서울의 최고 기온이 가장 높았던 날은 2018-08-01로 39.6도 였습니다\n"
          ],
          "name": "stdout"
        }
      ]
    },
    {
      "cell_type": "markdown",
      "metadata": {
        "id": "N4-WOrnyswx5"
      },
      "source": [
        "step 4) 최저 기온과 최저 기온이었던 날짜"
      ]
    },
    {
      "cell_type": "code",
      "metadata": {
        "colab": {
          "base_uri": "https://localhost:8080/"
        },
        "id": "UFGsnltPsnfU",
        "outputId": "5c50dec1-5ed0-4bc4-e998-4b68a0942436"
      },
      "source": [
        "import csv\n",
        "\n",
        "min_temp = 999 # 최저 기온 값을 저장할 변수 -> 누가 봐도 최저 기온이 아닌 값을 지정(명확한 결과를 위해 극적인 값으로 세팅)\n",
        "min_date = '' # 최저 기온이 가장 낮았던 날짜를 저장하는 변수\n",
        "\n",
        "f=open('seoul.csv','r',encoding='cp949')\n",
        "\n",
        "data=csv.reader(f)\n",
        "header=next(data) # header(컬럼 인덱스) 추출\n",
        "\n",
        "for row in data:\n",
        "  \n",
        "\n",
        "  # 최저 기온 데이터가 ''(결측치)인지 확인\n",
        "  if row[3] == '':\n",
        "    row[3] = 999 # -999를 넣어서 빈 문자열 ''이 있던 자리임을 표기\n",
        "  \n",
        "  row[3]=float(row[3])\n",
        "  \n",
        "  # 최저 기온 정보를 저장\n",
        "\n",
        "  if min_temp > row[3]:\n",
        "    min_date = row[0]\n",
        "    min_temp = row[3]\n",
        "\n",
        "f.close()\n",
        "\n",
        "print('기상 관측 이래 서울의 최저 기온이 가장 낮았던 날은 %s로 %.1f도 였습니다'%(min_date,min_temp))"
      ],
      "execution_count": null,
      "outputs": [
        {
          "output_type": "stream",
          "text": [
            "기상 관측 이래 서울의 최저 기온이 가장 낮았던 날은 1927-12-31로 -23.1도 였습니다\n"
          ],
          "name": "stdout"
        }
      ]
    },
    {
      "cell_type": "markdown",
      "metadata": {
        "id": "q6MyKJrxIman"
      },
      "source": [
        "기상 관측 이래, 서울의 평균 기온이 가장 높았던 날은 언제였고, 몇 도 였을까?<br>\n",
        "-> 날짜, 평균 기온 데이터를 사용"
      ]
    },
    {
      "cell_type": "code",
      "metadata": {
        "colab": {
          "base_uri": "https://localhost:8080/"
        },
        "id": "g7gAB1j4vtaL",
        "outputId": "da178b77-6b38-456d-a743-cb2e24d78d5c"
      },
      "source": [
        "import csv\n",
        "\n",
        "max_tempMean=-999\n",
        "max_date=''\n",
        "\n",
        "f=open('seoul.csv','r',encoding='cp949')\n",
        "data=csv.reader(f)\n",
        "header=next(data)\n",
        "\n",
        "for row in data:\n",
        "\n",
        "  if row[2] =='':\n",
        "    row[2]=-999\n",
        "  \n",
        "  row[2]=float(row[2])\n",
        "\n",
        "  if max_tempMean < row[2]:\n",
        "    max_tempMean = row[2]\n",
        "    max_date = row[0]\n",
        "\n",
        "f.close()\n",
        "\n",
        "print('기상 관측 이래 서울의 평균기온이 가장 높았던 날은 %s로 %.1f도 였습니다'%(max_date,max_tempMean))"
      ],
      "execution_count": null,
      "outputs": [
        {
          "output_type": "stream",
          "text": [
            "기상 관측 이래 서울의 평균기온이 가장 높았던 날은 2018-08-02로 33.7도 였습니다\n"
          ],
          "name": "stdout"
        }
      ]
    },
    {
      "cell_type": "markdown",
      "metadata": {
        "id": "K0QbRqu5I_TQ"
      },
      "source": [
        "기상 관측 이래, 서울의 평균 기온이 가장 낮았던 날은 언제였고, 몇 도 였을까?<br>\n",
        "-> 날짜, 평균 기온 데이터를 사용"
      ]
    },
    {
      "cell_type": "code",
      "metadata": {
        "colab": {
          "base_uri": "https://localhost:8080/"
        },
        "id": "TCfFHkJ0tSM8",
        "outputId": "ca26ca8d-e7ac-4736-c6cc-bb23aa8819eb"
      },
      "source": [
        "import csv\n",
        "\n",
        "min_tempMean=999\n",
        "min_date=''\n",
        "\n",
        "f=open('seoul.csv','r',encoding='cp949')\n",
        "data=csv.reader(f)\n",
        "header=next(data)\n",
        "\n",
        "for row in data:\n",
        "  if row[2]=='':\n",
        "    row[2]=999\n",
        "\n",
        "  row[2]=float(row[2])\n",
        "\n",
        "  if min_tempMean > row[2]:\n",
        "    min_tempMean=row[2]\n",
        "    min_date=row[0]\n",
        "\n",
        "f.close()\n",
        "\n",
        "print('기상 관측 이래 서울의 평균기온이 가장 낮았던 날은 %s로 %.1f도 였습니다'%(min_date,min_tempMean))"
      ],
      "execution_count": null,
      "outputs": [
        {
          "output_type": "stream",
          "text": [
            "기상 관측 이래 서울의 평균기온이 가장 낮았던 날은 1915-01-13로 -19.2도 였습니다\n"
          ],
          "name": "stdout"
        }
      ]
    },
    {
      "cell_type": "code",
      "metadata": {
        "id": "DpmbwgDE0FSI"
      },
      "source": [
        ""
      ],
      "execution_count": null,
      "outputs": []
    }
  ]
}

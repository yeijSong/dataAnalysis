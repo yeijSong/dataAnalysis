{
  "nbformat": 4,
  "nbformat_minor": 0,
  "metadata": {
    "colab": {
      "name": "unit11-대중교통 데이터 시각화하기.ipynb",
      "provenance": [],
      "collapsed_sections": []
    },
    "kernelspec": {
      "name": "python3",
      "display_name": "Python 3"
    },
    "language_info": {
      "name": "python"
    }
  },
  "cells": [
    {
      "cell_type": "code",
      "metadata": {
        "colab": {
          "base_uri": "https://localhost:8080/"
        },
        "id": "MW6cM_XcoraZ",
        "outputId": "0e2099fd-a4ab-46aa-cb05-cf057b4e8018"
      },
      "source": [
        "import matplotlib as mpl\n",
        "import matplotlib.pyplot as plt\n",
        " \n",
        "%config InlineBackend.figure_format = 'retina'\n",
        " \n",
        "!apt -qq -y install fonts-nanum\n",
        " \n",
        "import matplotlib.font_manager as fm\n",
        "\n",
        "fontpath = '/usr/share/fonts/truetype/nanum/NanumBarunGothic.ttf'\n",
        "font = fm.FontProperties(fname=fontpath, size=9)\n",
        "plt.rc('font', family='NanumBarunGothic') \n",
        "mpl.font_manager._rebuild()"
      ],
      "execution_count": null,
      "outputs": [
        {
          "output_type": "stream",
          "text": [
            "fonts-nanum is already the newest version (20170925-1).\n",
            "0 upgraded, 0 newly installed, 0 to remove and 39 not upgraded.\n"
          ],
          "name": "stdout"
        }
      ]
    },
    {
      "cell_type": "markdown",
      "metadata": {
        "id": "yDaZ8pAEov6u"
      },
      "source": [
        "### 지하철 유무임별 이용현황 데이터 정제하기"
      ]
    },
    {
      "cell_type": "markdown",
      "metadata": {
        "id": "Oiyh537A10w7"
      },
      "source": [
        "데이터 출력하기"
      ]
    },
    {
      "cell_type": "code",
      "metadata": {
        "id": "AWFCfobj10CQ"
      },
      "source": [
        "import csv\n",
        "\n",
        "f=open('subwayfee.csv')\n",
        "data=csv.reader(f)\n",
        "\n",
        "for row in data:\n",
        "  print(row)"
      ],
      "execution_count": null,
      "outputs": []
    },
    {
      "cell_type": "markdown",
      "metadata": {
        "id": "xza50IOF6vG0"
      },
      "source": [
        "유임승차 수 정수형으로 변경"
      ]
    },
    {
      "cell_type": "code",
      "metadata": {
        "id": "RuuZ6XoQ6w-U"
      },
      "source": [
        "import csv\n",
        "\n",
        "f=open('subwayfee.csv')\n",
        "data=csv.reader(f)\n",
        "next(data) # 헤더는 건너뛰어 준다\n",
        "\n",
        "for row in data:\n",
        "  row[4] = int(row[4])\n",
        "  print(row)"
      ],
      "execution_count": null,
      "outputs": []
    },
    {
      "cell_type": "markdown",
      "metadata": {
        "id": "8T-WDlYB7P2Y"
      },
      "source": [
        "인원 숫자 데이터 정수로 변경\n",
        "\n",
        "(유임승차, 유임하차, 무임승차, 무임하차 : 인덱스 4,5,6,7)"
      ]
    },
    {
      "cell_type": "code",
      "metadata": {
        "id": "vRRXMi3X7ZdM"
      },
      "source": [
        "import csv\n",
        "\n",
        "f=open('subwayfee.csv')\n",
        "data=csv.reader(f)\n",
        "next(data) # 헤더는 건너뛰어 준다\n",
        "\n",
        "for row in data:\n",
        "  for i in range(4,8):\n",
        "    row[i] = int(row[i])\n",
        "  print(row)"
      ],
      "execution_count": null,
      "outputs": []
    },
    {
      "cell_type": "markdown",
      "metadata": {
        "id": "vmiRInZj9dM2"
      },
      "source": [
        "### 유임 승차 비율이 가장 높은 역 찾아보기"
      ]
    },
    {
      "cell_type": "markdown",
      "metadata": {
        "id": "96svCfNj9jjB"
      },
      "source": [
        "**알고리즘 생각하기**\n",
        "\n",
        "\n",
        "> 1. 데이터를 읽어온다\n",
        "\n",
        "\n",
        "> 2. 모든 역의 데이터를 바탕으로 각 역의 비율(rate)을 계산한다.\n",
        "\n",
        "\n",
        "> 3. 비율이 가장 높은 역을 찾는다.\n",
        "\n",
        "\n",
        "> 4. 비율이 가장 높은 역이 어디인지, 그 비율이 얼마인지 출력한다.\n",
        "\n"
      ]
    },
    {
      "cell_type": "markdown",
      "metadata": {
        "id": "-iEq46gOAclu"
      },
      "source": [
        "유임승차 / 무임승차 비율의 최댓값 찾기 -> 기존 0 데이터로 되어 있음\n",
        "\n",
        "rate = 유임승차 인원 / 무임 승차 인원\n"
      ]
    },
    {
      "cell_type": "code",
      "metadata": {
        "colab": {
          "base_uri": "https://localhost:8080/",
          "height": 239
        },
        "id": "bCm73hFY7_Em",
        "outputId": "4f57aca8-9aca-4eb9-9a1d-765561114b7a"
      },
      "source": [
        "import csv\n",
        "\n",
        "f=open('subwayfee.csv') # 기본값이 utf, 이파일은 utf여서 인코딩 생략가능\n",
        "data=csv.reader(f)\n",
        "next(data) # 헤더는 건너뛰어 준다\n",
        "\n",
        "max = 0 # 최대 유임승차 비율\n",
        "rate = 0 # 유임승차 비율(유임승차수/무임승차)\n",
        "\n",
        "for row in data:\n",
        "  for i in range(4,8):\n",
        "    row[i] = int(row[i])\n",
        "  \n",
        "  rate = row[4] / row[6] # row[4]: 유임승차, row[6]: 무임승차\n",
        "\n",
        "  if rate > max:\n",
        "    max = rate\n",
        "  \n",
        "max\n",
        "\n",
        "# row[6] = 0 인 값이 있어 오류 발생\n",
        "# 0이 아닐때만 계산하도록 처리해야함"
      ],
      "execution_count": null,
      "outputs": [
        {
          "output_type": "error",
          "ename": "ZeroDivisionError",
          "evalue": "ignored",
          "traceback": [
            "\u001b[0;31m---------------------------------------------------------------------------\u001b[0m",
            "\u001b[0;31mZeroDivisionError\u001b[0m                         Traceback (most recent call last)",
            "\u001b[0;32m<ipython-input-10-6ed95b77c23c>\u001b[0m in \u001b[0;36m<module>\u001b[0;34m()\u001b[0m\n\u001b[1;32m     12\u001b[0m     \u001b[0mrow\u001b[0m\u001b[0;34m[\u001b[0m\u001b[0mi\u001b[0m\u001b[0;34m]\u001b[0m \u001b[0;34m=\u001b[0m \u001b[0mint\u001b[0m\u001b[0;34m(\u001b[0m\u001b[0mrow\u001b[0m\u001b[0;34m[\u001b[0m\u001b[0mi\u001b[0m\u001b[0;34m]\u001b[0m\u001b[0;34m)\u001b[0m\u001b[0;34m\u001b[0m\u001b[0;34m\u001b[0m\u001b[0m\n\u001b[1;32m     13\u001b[0m \u001b[0;34m\u001b[0m\u001b[0m\n\u001b[0;32m---> 14\u001b[0;31m   \u001b[0mrate\u001b[0m \u001b[0;34m=\u001b[0m \u001b[0mrow\u001b[0m\u001b[0;34m[\u001b[0m\u001b[0;36m4\u001b[0m\u001b[0;34m]\u001b[0m \u001b[0;34m/\u001b[0m \u001b[0mrow\u001b[0m\u001b[0;34m[\u001b[0m\u001b[0;36m6\u001b[0m\u001b[0;34m]\u001b[0m \u001b[0;31m# row[4]: 유임승차, row[6]: 무임승차\u001b[0m\u001b[0;34m\u001b[0m\u001b[0;34m\u001b[0m\u001b[0m\n\u001b[0m\u001b[1;32m     15\u001b[0m \u001b[0;34m\u001b[0m\u001b[0m\n\u001b[1;32m     16\u001b[0m   \u001b[0;32mif\u001b[0m \u001b[0mrate\u001b[0m \u001b[0;34m>\u001b[0m \u001b[0mmax\u001b[0m\u001b[0;34m:\u001b[0m\u001b[0;34m\u001b[0m\u001b[0;34m\u001b[0m\u001b[0m\n",
            "\u001b[0;31mZeroDivisionError\u001b[0m: division by zero"
          ]
        }
      ]
    },
    {
      "cell_type": "code",
      "metadata": {
        "colab": {
          "base_uri": "https://localhost:8080/"
        },
        "id": "1PcLkQQAAOMv",
        "outputId": "e8b2a3e8-0274-48ee-a110-8ca653dfb83e"
      },
      "source": [
        "# 방법 1\n",
        "\n",
        "import csv\n",
        "\n",
        "f=open('subwayfee.csv') # 기본값이 utf, 이파일은 utf여서 인코딩 생략가능\n",
        "data=csv.reader(f)\n",
        "next(data) # 헤더는 건너뛰어 준다\n",
        "\n",
        "max = 0 # 최대 유임승차 비율\n",
        "rate = 0 # 유임승차 비율(유임승차수/무임승차)\n",
        "\n",
        "for row in data:\n",
        "  for i in range(4,8):\n",
        "    row[i] = int(row[i])\n",
        "  if row[6] != 0:\n",
        "    rate = row[4] / row[6] # row[4]: 유임승차, row[6]: 무임승차\n",
        "\n",
        "  if rate > max:\n",
        "    max = rate\n",
        "  \n",
        "max"
      ],
      "execution_count": null,
      "outputs": [
        {
          "output_type": "execute_result",
          "data": {
            "text/plain": [
              "27.5"
            ]
          },
          "metadata": {
            "tags": []
          },
          "execution_count": 15
        }
      ]
    },
    {
      "cell_type": "code",
      "metadata": {
        "colab": {
          "base_uri": "https://localhost:8080/"
        },
        "id": "RvCSeAbV_W0T",
        "outputId": "b5fd7778-7381-459e-cb32-f4de8d94c381"
      },
      "source": [
        "# 방법 2\n",
        "\n",
        "import csv\n",
        "\n",
        "f=open('subwayfee.csv') # 기본값이 utf, 이파일은 utf여서 인코딩 생략가능\n",
        "data=csv.reader(f)\n",
        "next(data) # 헤더는 건너뛰어 준다\n",
        "\n",
        "max = 0 # 최대 유임승차 비율\n",
        "rate = 0 # 유임승차 비율(유임승차수/무임승차)\n",
        "\n",
        "for row in data:\n",
        "  for i in range(4,8):\n",
        "    row[i] = int(row[i])\n",
        "  try:\n",
        "    rate = row[4] / row[6] # row[4]: 유임승차, row[6]: 무임승차\n",
        "  except:\n",
        "    pass\n",
        "\n",
        "  if rate > max:\n",
        "    max = rate\n",
        "  \n",
        "max"
      ],
      "execution_count": null,
      "outputs": [
        {
          "output_type": "execute_result",
          "data": {
            "text/plain": [
              "27.5"
            ]
          },
          "metadata": {
            "tags": []
          },
          "execution_count": 14
        }
      ]
    },
    {
      "cell_type": "markdown",
      "metadata": {
        "id": "dhLBpkfeAvrk"
      },
      "source": [
        "비율 계산 방식 변경\n",
        "\n",
        "rate = 유임승차 인원 / 전체 인원(유임+무임)"
      ]
    },
    {
      "cell_type": "code",
      "metadata": {
        "colab": {
          "base_uri": "https://localhost:8080/"
        },
        "id": "S5Kb4lUYAnTx",
        "outputId": "7833269e-d453-4fcc-d688-4e73bf208664"
      },
      "source": [
        "import csv\n",
        "\n",
        "f=open('subwayfee.csv') # 기본값이 utf, 이파일은 utf여서 인코딩 생략가능\n",
        "data=csv.reader(f)\n",
        "next(data) # 헤더는 건너뛰어 준다\n",
        "\n",
        "max = 0 # 최대 유임승차 비율\n",
        "rate = 0 # 유임승차 비율\n",
        "\n",
        "for row in data:\n",
        "  for i in range(4,8):\n",
        "    row[i] = int(row[i])\n",
        "  if row[6] != 0:\n",
        "    rate = row[4] / (row[4] + row[6]) # row[4]: 유임승차, row[6]: 무임승차\n",
        "\n",
        "  if rate > max:\n",
        "    max = rate\n",
        "    max_station = row[3] + ' ' + row[1] # 지하철 역 + 호선 정보 출력\n",
        "    print(max_station, round(max*100,2))\n",
        "    # max는 비율이므로 *100을 해줘야 %정보를 볼 수 있다 / round를 걸어줘서 반올림(소수점둘째까지)\n",
        "\n",
        "# 이런 계산으로 나온 값으로 해당 역을 활동적인 역이라고 단정지을 수 없다\n",
        "# 충무로의 경우 유임승차 비율이 96.49%로 활동적인 역으로 보이지만\n",
        "# 충무로의 데이터를 찾아보면 유임승차 인원 55, 무임승차 인원 2로 활동적인 역이 아니다\n",
        "# 비율을 계산하다보니 이런 오류가 생기므로 제한을 걸어서 데이터를 다시 볼 필요 있다"
      ],
      "execution_count": null,
      "outputs": [
        {
          "output_type": "stream",
          "text": [
            "서울역 1호선 87.27\n",
            "종각 1호선 88.43\n",
            "시청 2호선 92.04\n",
            "을지로입구 2호선 92.16\n",
            "한양대 2호선 93.83\n",
            "강남 2호선 94.42\n",
            "홍대입구 2호선 95.34\n",
            "충무로 3호선 96.49\n"
          ],
          "name": "stdout"
        }
      ]
    },
    {
      "cell_type": "code",
      "metadata": {
        "colab": {
          "base_uri": "https://localhost:8080/"
        },
        "id": "hMB-pGC8C6sb",
        "outputId": "7d85e149-b52d-4264-e644-27e65662b9af"
      },
      "source": [
        "import csv\n",
        "\n",
        "f=open('subwayfee.csv') # 기본값이 utf, 이파일은 utf여서 인코딩 생략가능\n",
        "data=csv.reader(f)\n",
        "next(data) # 헤더는 건너뛰어 준다\n",
        "\n",
        "max = 0 # 최대 유임승차 비율\n",
        "rate = 0 # 유임승차 비율\n",
        "\n",
        "for row in data:\n",
        "  for i in range(4,8):\n",
        "    row[i] = int(row[i])\n",
        "  if row[6] != 0 and (row[4]+row[6])>100000: # 전체 승차 인원이 10만명 이상인 곳으로 제한\n",
        "    rate = row[4] / (row[4] + row[6])\n",
        "\n",
        "  if rate > max:\n",
        "    max = rate\n",
        "    max_station = row[3] + ' ' + row[1] # 지하철 역 + 호선 정보 출력\n",
        "    print(max_station, round(max*100,2))"
      ],
      "execution_count": null,
      "outputs": [
        {
          "output_type": "stream",
          "text": [
            "서울역 1호선 87.27\n",
            "종각 1호선 88.43\n",
            "시청 2호선 92.04\n",
            "을지로입구 2호선 92.16\n",
            "한양대 2호선 93.83\n",
            "강남 2호선 94.42\n",
            "홍대입구 2호선 95.34\n"
          ],
          "name": "stdout"
        }
      ]
    },
    {
      "cell_type": "code",
      "metadata": {
        "colab": {
          "base_uri": "https://localhost:8080/"
        },
        "id": "3sn0ZACsDnAf",
        "outputId": "20274edd-9bf6-4d0d-ce13-6d997f53d414"
      },
      "source": [
        "import csv\n",
        "\n",
        "f=open('subwayfee.csv') # 기본값이 utf, 이파일은 utf여서 인코딩 생략가능\n",
        "data=csv.reader(f)\n",
        "next(data) # 헤더는 건너뛰어 준다\n",
        "\n",
        "max = 0 # 최대 유임승차 비율\n",
        "rate = 0 # 유임승차 비율\n",
        "max_station = '' # 최대 유임승차 역 정보\n",
        "\n",
        "for row in data:\n",
        "  for i in range(4,8):\n",
        "    row[i] = int(row[i])\n",
        "  if row[6] != 0 and (row[4]+row[6])>100000: # 전체 승차 인원이 10만명 이상인 곳으로 제한\n",
        "    rate = row[4] / (row[4] + row[6])\n",
        "\n",
        "  if rate > max:\n",
        "    max = rate\n",
        "    max_station = row[3] + ' ' + row[1] # 지하철 역 + 호선 정보 출력\n",
        "\n",
        "print(max_station, round(max*100,2))\n",
        "print('유임승차비율이 가장 높은 역은 %s으로 비율은 %.2f입니다'%(max_station, round(max*100,2)))\n",
        "# 제일 바깥 쪽에서 출력하면 진짜 최대값을 출력가능\n",
        "# 이렇게 출력하려면 같은 라인에 max_station변수가 지정되어 있어야 한다(max_station = '')"
      ],
      "execution_count": null,
      "outputs": [
        {
          "output_type": "stream",
          "text": [
            "홍대입구 2호선 95.34\n",
            "유임승차비율이 가장 높은 역은 홍대입구 2호선으로 비율은 95.34입니다\n"
          ],
          "name": "stdout"
        }
      ]
    },
    {
      "cell_type": "markdown",
      "metadata": {
        "id": "zVW-5s0iZdP4"
      },
      "source": [
        "### 유무임 승하차 인원이 가장 많은 역 구하기"
      ]
    },
    {
      "cell_type": "markdown",
      "metadata": {
        "id": "LgazWzEOZk7_"
      },
      "source": [
        "**알고리즘 설계하기**\n",
        "\n",
        "\n",
        "> 1. 데이터를 읽어온다.\n",
        "\n",
        "\n",
        "> 2. 모든 역의 데이터를 바탕으로 유임승차, 유임하차, 무임승차, 무임하차 인원이 가장 많은 역을 찾는다.\n",
        "\n",
        "\n",
        "\n",
        "> 3. 각각의 인원이 가장 많은 역을 출력한다.\n",
        "\n",
        "\n",
        "\n",
        "\n",
        "\n"
      ]
    },
    {
      "cell_type": "code",
      "metadata": {
        "colab": {
          "base_uri": "https://localhost:8080/"
        },
        "id": "QVmdaYF1ZkN4",
        "outputId": "6662229d-956f-450e-b7dc-998622913059"
      },
      "source": [
        "import csv\n",
        "\n",
        "f=open('subwayfee.csv') # 기본값이 utf, 이파일은 utf여서 인코딩 생략가능\n",
        "data=csv.reader(f)\n",
        "next(data) # 헤더는 건너뛰어 준다\n",
        "\n",
        "max = [0] * 4 # 최대 유임승차,유임하차,무임승차,무임하차 인원수 [0,0,0,0]\n",
        "max_station = [''] * 4 # 최대 유임승차,유임하차,무임승차,무임하차 역 정보 ['','','','']\n",
        "\n",
        "label = ['유임승차', '유임하차', '무임승차', '무임하차']\n",
        "\n",
        "for row in data:\n",
        "  for i in range(4,8):\n",
        "    row[i] = int(row[i])\n",
        "    if row[i] > max[i-4]:\n",
        "      # row[4] > max[0]:유임승차 비교, row[5] > max[1]:유임하차 비교, row[6] > max[2]:무임승차 비교, row[7] > max[3]:무임하차 비교,\n",
        "      max[i-4] = row[i]\n",
        "      max_station[i-4] = row[3] + ' ' + row[1] # 지하철 역 + 호선 정보 출력\n",
        "\n",
        "for i in range(4):\n",
        "  print(label[i]+ ' : ' +max_station[i],max[i],'명')\n"
      ],
      "execution_count": null,
      "outputs": [
        {
          "output_type": "stream",
          "text": [
            "유임승차 : 강남 2호선 3153418 명\n",
            "유임하차 : 강남 2호선 3210437 명\n",
            "무임승차 : 종로3가 1호선 387062 명\n",
            "무임하차 : 제기동 1호선 400607 명\n"
          ],
          "name": "stdout"
        }
      ]
    },
    {
      "cell_type": "markdown",
      "metadata": {
        "id": "kVWXXYI3dnD9"
      },
      "source": [
        "최소값 찾기"
      ]
    },
    {
      "cell_type": "code",
      "metadata": {
        "colab": {
          "base_uri": "https://localhost:8080/"
        },
        "id": "f6AYficHeIHR",
        "outputId": "476a07e5-03c8-4820-b428-1861d523f590"
      },
      "source": [
        "import csv\n",
        "\n",
        "f=open('subwayfee.csv') # 기본값이 utf, 이파일은 utf여서 인코딩 생략가능\n",
        "data=csv.reader(f)\n",
        "next(data) # 헤더는 건너뛰어 준다\n",
        "\n",
        "min = [500000] * 4 # 최대 유임승차,유임하차,무임승차,무임하차 인원수 [0,0,0,0]\n",
        "min_station = [''] * 4 # 최대 유임승차,유임하차,무임승차,무임하차 역 정보 ['','','','']\n",
        "\n",
        "label = ['유임승차', '유임하차', '무임승차', '무임하차']\n",
        "\n",
        "for row in data:\n",
        "  for i in range(4,8):\n",
        "    row[i] = int(row[i])\n",
        "    if row[i] < min[i-4] and row[i] > 0: # 데이터가 숫자일때는 != 말고 비교연산자 사용할 것\n",
        "      # row[4] > max[0]:유임승차 비교, row[5] > max[1]:유임하차 비교, row[6] > max[2]:무임승차 비교, row[7] > max[3]:무임하차 비교,\n",
        "      min[i-4] = row[i]\n",
        "      min_station[i-4] = row[3] + ' ' + row[1] # 지하철 역 + 호선 정보 출력\n",
        "\n",
        "for i in range(4):\n",
        "  print(label[i]+ ' : ' +min_station[i],min[i])"
      ],
      "execution_count": null,
      "outputs": [
        {
          "output_type": "stream",
          "text": [
            "유임승차 : 지축 일산선 2\n",
            "유임하차 : 지평 중앙선 566\n",
            "무임승차 : 충무로 3호선 2\n",
            "무임하차 : 옥수 경원선 91\n"
          ],
          "name": "stdout"
        }
      ]
    },
    {
      "cell_type": "code",
      "metadata": {
        "colab": {
          "base_uri": "https://localhost:8080/"
        },
        "id": "0BOwA86skjHD",
        "outputId": "f935d7d1-ee52-4553-ad95-9b5c5de36fc0"
      },
      "source": [
        "import csv\n",
        "\n",
        "f=open('subwayfee.csv') # 기본값이 utf, 이파일은 utf여서 인코딩 생략가능\n",
        "data=csv.reader(f)\n",
        "next(data) # 헤더는 건너뛰어 준다\n",
        "\n",
        "min = [500000] * 4 # 최대 유임승차,유임하차,무임승차,무임하차 인원수 [0,0,0,0]\n",
        "min_station = [''] * 4 # 최대 유임승차,유임하차,무임승차,무임하차 역 정보 ['','','','']\n",
        "\n",
        "label = ['유임승차', '유임하차', '무임승차', '무임하차']\n",
        "\n",
        "for row in data:\n",
        "  for i in range(4,8):\n",
        "    row[i] = int(row[i])\n",
        "    if row[i] <= min[i-4] and row[i] > 0:\n",
        "      # row[4] > max[0]:유임승차 비교, row[5] > max[1]:유임하차 비교, row[6] > max[2]:무임승차 비교, row[7] > max[3]:무임하차 비교,\n",
        "      min[i-4] = row[i]\n",
        "      min_station[i-4] = row[3] + ' ' + row[1] # 지하철 역 + 호선 정보 출력\n",
        "\n",
        "for i in range(4):\n",
        "  print(label[i]+ ' : ' +min_station[i],min[i])"
      ],
      "execution_count": null,
      "outputs": [
        {
          "output_type": "stream",
          "text": [
            "유임승차 : 홍대입구 경의선 2\n",
            "유임하차 : 지평 중앙선 566\n",
            "무임승차 : 연신내 6호선 2\n",
            "무임하차 : 옥수 경원선 91\n"
          ],
          "name": "stdout"
        }
      ]
    },
    {
      "cell_type": "code",
      "metadata": {
        "colab": {
          "base_uri": "https://localhost:8080/"
        },
        "id": "Evq8ZEV6f9kn",
        "outputId": "368a5c52-fa25-4b65-b13f-4ba08617cca8"
      },
      "source": [
        "import csv\n",
        "\n",
        "f=open('subwayfee.csv') # 기본값이 utf, 이파일은 utf여서 인코딩 생략가능\n",
        "data=csv.reader(f)\n",
        "next(data) # 헤더는 건너뛰어 준다\n",
        "\n",
        "min = [500000] * 4 # 최대 유임승차,유임하차,무임승차,무임하차 인원수 [0,0,0,0]\n",
        "min_station = [''] * 4 # 최대 유임승차,유임하차,무임승차,무임하차 역 정보 ['','','','']\n",
        "\n",
        "label = ['유임승차', '유임하차', '무임승차', '무임하차']\n",
        "\n",
        "for row in data:\n",
        "  for i in range(4,8):\n",
        "    row[i] = int(row[i])\n",
        "    if row[i] < min[i-4]:\n",
        "      # row[4] > max[0]:유임승차 비교, row[5] > max[1]:유임하차 비교, row[6] > max[2]:무임승차 비교, row[7] > max[3]:무임하차 비교,\n",
        "      min[i-4] = row[i]\n",
        "      min_station[i-4] = row[3] + ' ' + row[1] # 지하철 역 + 호선 정보 출력\n",
        "\n",
        "for i in range(4):\n",
        "  print(label[i]+ ' : ' +min_station[i],min[i])"
      ],
      "execution_count": null,
      "outputs": [
        {
          "output_type": "stream",
          "text": [
            "유임승차 : 지축 일산선 2\n",
            "유임하차 : 충무로 3호선 0\n",
            "무임승차 : 창동 경원선 0\n",
            "무임하차 : 충무로 3호선 0\n"
          ],
          "name": "stdout"
        }
      ]
    },
    {
      "cell_type": "code",
      "metadata": {
        "colab": {
          "base_uri": "https://localhost:8080/"
        },
        "id": "0mS0TUkwkrei",
        "outputId": "4775d82c-1be6-420a-d48c-8b543bcb6aa4"
      },
      "source": [
        "import csv\n",
        "\n",
        "f=open('subwayfee.csv') # 기본값이 utf, 이파일은 utf여서 인코딩 생략가능\n",
        "data=csv.reader(f)\n",
        "next(data) # 헤더는 건너뛰어 준다\n",
        "\n",
        "min = [500000] * 4 # 최대 유임승차,유임하차,무임승차,무임하차 인원수 [0,0,0,0]\n",
        "min_station = [''] * 4 # 최대 유임승차,유임하차,무임승차,무임하차 역 정보 ['','','','']\n",
        "\n",
        "label = ['유임승차', '유임하차', '무임승차', '무임하차']\n",
        "\n",
        "for row in data:\n",
        "  for i in range(4,8):\n",
        "    row[i] = int(row[i])\n",
        "    if row[i] <= min[i-4]:\n",
        "      # row[4] > max[0]:유임승차 비교, row[5] > max[1]:유임하차 비교, row[6] > max[2]:무임승차 비교, row[7] > max[3]:무임하차 비교,\n",
        "      min[i-4] = row[i]\n",
        "      min_station[i-4] = row[3] + ' ' + row[1] # 지하철 역 + 호선 정보 출력\n",
        "\n",
        "for i in range(4):\n",
        "  print(label[i]+ ' : ' +min_station[i],min[i])"
      ],
      "execution_count": null,
      "outputs": [
        {
          "output_type": "stream",
          "text": [
            "유임승차 : 홍대입구 경의선 2\n",
            "유임하차 : 연신내 6호선 0\n",
            "무임승차 : 검암 경의선 0\n",
            "무임하차 : 연신내 6호선 0\n"
          ],
          "name": "stdout"
        }
      ]
    },
    {
      "cell_type": "markdown",
      "metadata": {
        "id": "Kqbv5gDnqD25"
      },
      "source": [
        "**모든 역의 유무임 승하차 비율 파이 차트로 표현하기**"
      ]
    },
    {
      "cell_type": "code",
      "metadata": {
        "id": "nCPtvPvWqHWW"
      },
      "source": [
        "import matplotlib.pyplot as plt\n",
        "import csv\n",
        "\n",
        "f=open('subwayfee.csv') # 기본값이 utf, 이파일은 utf여서 인코딩 생략가능\n",
        "data=csv.reader(f)\n",
        "next(data) # 헤더는 건너뛰어 준다\n",
        "\n",
        "max = [0] * 4 # 최대 유임승차,유임하차,무임승차,무임하차 인원수 [0,0,0,0]\n",
        "max_station = [''] * 4 # 최대 유임승차,유임하차,무임승차,무임하차 역 정보 ['','','','']\n",
        "\n",
        "label = ['유임승차', '유임하차', '무임승차', '무임하차']\n",
        "\n",
        "for row in data:\n",
        "  for i in range(4,8):\n",
        "    row[i] = int(row[i])\n",
        "    \n",
        "    plt.figure(dpi=200)\n",
        "    plt.pie(row[4:8],labels=label,autopct='%.1f%%')\n",
        "    plt.axis('equal') # 파이의 축을 동일하게(원형으로)\n",
        "    plt.savefig(row[3] + ' ' + row[1] + '.png') # 차트 이미지 저장\n",
        "    plt.title(row[3] + ' ' + row[1])\n",
        "    plt.show()"
      ],
      "execution_count": null,
      "outputs": []
    }
  ]
}

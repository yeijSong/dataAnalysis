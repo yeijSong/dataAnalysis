{
  "nbformat": 4,
  "nbformat_minor": 0,
  "metadata": {
    "colab": {
      "name": "unit02-서울의 기온 데이터 분석하기.ipynb",
      "provenance": [],
      "collapsed_sections": [],
      "authorship_tag": "ABX9TyP2SO96dRtR3afwZe/uYsOC",
      "include_colab_link": true
    },
    "kernelspec": {
      "name": "python3",
      "display_name": "Python 3"
    },
    "language_info": {
      "name": "python"
    }
  },
  "cells": [
    {
      "cell_type": "markdown",
      "metadata": {
        "id": "view-in-github",
        "colab_type": "text"
      },
      "source": [
        "<a href=\"https://colab.research.google.com/github/yeijSong/dataAnalysis/blob/main/unit02_%EC%84%9C%EC%9A%B8%EC%9D%98_%EA%B8%B0%EC%98%A8_%EB%8D%B0%EC%9D%B4%ED%84%B0_%EB%B6%84%EC%84%9D%ED%95%98%EA%B8%B0.ipynb\" target=\"_parent\"><img src=\"https://colab.research.google.com/assets/colab-badge.svg\" alt=\"Open In Colab\"/></a>"
      ]
    },
    {
      "cell_type": "markdown",
      "metadata": {
        "id": "rpihADqg2cQO"
      },
      "source": [
        "seoul.csv 파일 읽어오기"
      ]
    },
    {
      "cell_type": "code",
      "metadata": {
        "colab": {
          "base_uri": "https://localhost:8080/"
        },
        "id": "DPyseMlN2XkR",
        "outputId": "e45d09e5-03f8-48f6-a05a-7e31e16f4ae8"
      },
      "source": [
        "import csv\n",
        "\n",
        "f = open('seoul.csv', 'r', encoding='cp949') # encoding 디폴트 값은 utf8\n",
        "data=csv.reader(f, delimiter=',')\n",
        "print(data)\n",
        "f.close()"
      ],
      "execution_count": null,
      "outputs": [
        {
          "output_type": "stream",
          "text": [
            "<_csv.reader object at 0x7fe0a8a6c9d0>\n"
          ],
          "name": "stdout"
        }
      ]
    },
    {
      "cell_type": "code",
      "metadata": {
        "id": "amjnmDHH3j2S"
      },
      "source": [
        "import csv\n",
        "\n",
        "f = open('seoul.csv', 'r', encoding='cp949') # encoding 디폴트 값은 utf8\n",
        "data=csv.reader(f) # delimiter(구분자)의 디폴트는 ',(콤마)'이므로 생략가능\n",
        "print(data)\n",
        "\n",
        "# 구분자로 가장 많이 쓰이는 것은 ',(컴마)' -> '^(캐럿)' -> '|(or연산자 모양)'\n",
        "\n",
        "# 데이터를 한 줄씩 출력\n",
        "for row in data:\n",
        "  print(row)\n",
        "\n",
        "f.close()"
      ],
      "execution_count": null,
      "outputs": []
    },
    {
      "cell_type": "markdown",
      "metadata": {
        "id": "gKWxtEaw7eKa"
      },
      "source": [
        "data의 header저장하기"
      ]
    },
    {
      "cell_type": "code",
      "metadata": {
        "colab": {
          "base_uri": "https://localhost:8080/"
        },
        "id": "Ik92QVRw5EnW",
        "outputId": "01d3000e-2c2d-43f3-9a46-28e6c7eebdbc"
      },
      "source": [
        "import csv\n",
        "\n",
        "f = open('seoul.csv', 'r', encoding='cp949') # encoding 디폴트 값은 utf8\n",
        "data=csv.reader(f)\n",
        "header=next(data) # next함수는 데이터를 한 줄 씩 읽어들인다. 그리고 커서를 다음으로 넘겨 줌\n",
        "print(header)\n",
        "f.close()"
      ],
      "execution_count": null,
      "outputs": [
        {
          "output_type": "stream",
          "text": [
            "['날짜', '지점', '평균기온(℃)', '최저기온(℃)', '최고기온(℃)']\n"
          ],
          "name": "stdout"
        }
      ]
    },
    {
      "cell_type": "code",
      "metadata": {
        "colab": {
          "base_uri": "https://localhost:8080/"
        },
        "id": "F_PYaY7l8E8q",
        "outputId": "1db7dcab-8d77-4f75-dfa6-963de7b7ce8b"
      },
      "source": [
        "import csv\n",
        "\n",
        "f = open('seoul.csv', 'r', encoding='cp949') # encoding 디폴트 값은 utf8\n",
        "data=csv.reader(f)\n",
        "header=next(data) # next함수는 데이터를 한 줄 씩 읽어들인다. 그리고 커서를 다음으로 넘겨 줌\n",
        "header1=next(data)\n",
        "print(header)\n",
        "print(header1)\n",
        "f.close()"
      ],
      "execution_count": null,
      "outputs": [
        {
          "output_type": "stream",
          "text": [
            "['날짜', '지점', '평균기온(℃)', '최저기온(℃)', '최고기온(℃)']\n",
            "['1907-10-01', '108', '13.5', '7.9', '20.7']\n"
          ],
          "name": "stdout"
        }
      ]
    },
    {
      "cell_type": "code",
      "metadata": {
        "colab": {
          "base_uri": "https://localhost:8080/"
        },
        "id": "7ucK6SMI8WBz",
        "outputId": "f4f949e3-8091-47f1-ea45-ef50b55ddd3c"
      },
      "source": [
        "import csv\n",
        "\n",
        "f = open('seoul.csv', 'r', encoding='cp949') # encoding 디폴트 값은 utf8\n",
        "data=csv.reader(f)\n",
        "\n",
        "print(next(data)) # 첫 번재 행을 읽은 후 다음 행으로 이동\n",
        "print(next(data)) # 두 번째 행을 읽은 후 다음 행으로 이동\n",
        "print(next(data)) # 세 번째 행을 읽은 후 다음 행으로 이동\n",
        "\n",
        "f.close()"
      ],
      "execution_count": null,
      "outputs": [
        {
          "output_type": "stream",
          "text": [
            "['날짜', '지점', '평균기온(℃)', '최저기온(℃)', '최고기온(℃)']\n",
            "['1907-10-01', '108', '13.5', '7.9', '20.7']\n",
            "['1907-10-02', '108', '16.2', '7.9', '22']\n"
          ],
          "name": "stdout"
        }
      ]
    },
    {
      "cell_type": "code",
      "metadata": {
        "colab": {
          "base_uri": "https://localhost:8080/"
        },
        "id": "mtH7CBtk8kPv",
        "outputId": "0d15a139-7122-404f-d9e3-657df1e6ec56"
      },
      "source": [
        "import csv\n",
        "\n",
        "f = open('seoul.csv', 'r', encoding='cp949') # encoding 디폴트 값은 utf8\n",
        "data=csv.reader(f)\n",
        "\n",
        "print(next(data)) # 첫 번재 행을 읽은 후 다음 행으로 이동\n",
        "print(next(data)) # 두 번째 행을 읽은 후 다음 행으로 이동\n",
        "print(next(data)) # 세 번째 행을 읽은 후 다음 행으로 이동\n",
        "\n",
        "f.close() # 파일을 닫으면 그 동안의 정보가 리셋된다\n",
        "\n",
        "import csv\n",
        "\n",
        "f = open('seoul.csv', 'r', encoding='cp949') # encoding 디폴트 값은 utf8\n",
        "data=csv.reader(f)\n",
        "print(next(data)) # 따라서 파일을 닫고 다시 열면 리셋된다. "
      ],
      "execution_count": null,
      "outputs": [
        {
          "output_type": "stream",
          "text": [
            "['날짜', '지점', '평균기온(℃)', '최저기온(℃)', '최고기온(℃)']\n",
            "['1907-10-01', '108', '13.5', '7.9', '20.7']\n",
            "['1907-10-02', '108', '16.2', '7.9', '22']\n",
            "['날짜', '지점', '평균기온(℃)', '최저기온(℃)', '최고기온(℃)']\n"
          ],
          "name": "stdout"
        }
      ]
    },
    {
      "cell_type": "markdown",
      "metadata": {
        "id": "8YpV386597cl"
      },
      "source": [
        "header를 제외한 데이터 한 행씩 출력하기"
      ]
    },
    {
      "cell_type": "code",
      "metadata": {
        "id": "N0ED4DYn88o-"
      },
      "source": [
        "import csv\n",
        "\n",
        "f = open('seoul.csv', 'r', encoding='cp949') # 여기서 f는 파일 형태\n",
        "data=csv.reader(f) # 이제 f는 읽어들일 수 있는 데이터로 저장되었음\n",
        "header=next(data)\n",
        "\n",
        "for row in data:\n",
        "  print(row)\n",
        "\n",
        "f.close()"
      ],
      "execution_count": null,
      "outputs": []
    },
    {
      "cell_type": "markdown",
      "metadata": {
        "id": "li3xLAwpFWJO"
      },
      "source": [
        "### 기상 관측 이래, 서울의 최고 기온이 가장 높았던 날은 언제였고, 몇 도 였을까?<br>\n",
        "-> 날짜, 최고 기온 데이터를 사용"
      ]
    },
    {
      "cell_type": "code",
      "metadata": {
        "id": "K_GoTlbg-Mvh"
      },
      "source": [
        ""
      ],
      "execution_count": null,
      "outputs": []
    },
    {
      "cell_type": "markdown",
      "metadata": {
        "id": "q6MyKJrxIman"
      },
      "source": [
        "기상 관측 이래, 서울의 평균 기온이 가장 높았던 날은 언제였고, 몇 도 였을까?<br>\n",
        "-> 날짜, 평균 기온 데이터를 사용"
      ]
    },
    {
      "cell_type": "code",
      "metadata": {
        "id": "rYIs47wVIrxt"
      },
      "source": [
        ""
      ],
      "execution_count": null,
      "outputs": []
    },
    {
      "cell_type": "markdown",
      "metadata": {
        "id": "Tn3zMRGLI3mR"
      },
      "source": [
        "기상 관측 이래, 서울의 최저 기온이 가장 낮았던 날은 언제였고, 몇 도 였을까?<br>\n",
        "-> 날짜, 최저 기온 데이터를 사용"
      ]
    },
    {
      "cell_type": "code",
      "metadata": {
        "id": "P2rO5c1aI81u"
      },
      "source": [
        ""
      ],
      "execution_count": null,
      "outputs": []
    },
    {
      "cell_type": "markdown",
      "metadata": {
        "id": "K0QbRqu5I_TQ"
      },
      "source": [
        "기상 관측 이래, 서울의 평균 기온이 가장 낮았던 날은 언제였고, 몇 도 였을까?<br>\n",
        "-> 날짜, 평균 기온 데이터를 사용"
      ]
    },
    {
      "cell_type": "code",
      "metadata": {
        "id": "2Yvrml0GI-sj"
      },
      "source": [
        ""
      ],
      "execution_count": null,
      "outputs": []
    }
  ]
}
